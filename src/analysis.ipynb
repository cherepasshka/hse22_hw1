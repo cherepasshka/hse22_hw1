{
 "cells": [
  {
   "cell_type": "code",
   "execution_count": 1,
   "metadata": {},
   "outputs": [],
   "source": [
    "import re"
   ]
  },
  {
   "cell_type": "code",
   "execution_count": 2,
   "metadata": {},
   "outputs": [],
   "source": [
    "def load(filename):\n",
    "    '''\n",
    "    Загружу с помощью этой функции контиги/скаффолды. \n",
    "    Поскольку перед контигом/скаффолдом всегда идет строка вида '>.+', то разобью считанный файл по этой регулярке\n",
    "    '''\n",
    "    data = ''\n",
    "    with open(filename, 'r') as f:\n",
    "        data = f.read()\n",
    "    data = re.split('>.+', data)\n",
    "    result = list(map(lambda x: x.replace('\\n', ''), data))\n",
    "    while '' in result:\n",
    "        result.remove('')\n",
    "    return result\n",
    "\n",
    "\n",
    "def get_analytics(data):\n",
    "    lengths = [len(x) for x in data]\n",
    "    total_cnt = len(data)\n",
    "    total_length = sum(lengths)\n",
    "    max_length = max(lengths)\n",
    "\n",
    "    lengths.sort()\n",
    "    n50 = lengths[0]\n",
    "    sum_len = 0\n",
    "    for length in lengths:\n",
    "        sum_len += length\n",
    "        if sum_len > total_length / 2:\n",
    "            n50 = length\n",
    "            break\n",
    "    return total_cnt, total_length, max_length, n50\n",
    "    \n",
    "def print_analytics(entity_name, data):\n",
    "    total_cnt, total_length, max_length, n50 = get_analytics(data)\n",
    "    print(f'Анализ {entity_name}:')\n",
    "    print(f'Общее количество: {total_cnt}')\n",
    "    print(f'Общая длина: {total_length}')\n",
    "    print(f'Длина самого длинного: {max_length}')\n",
    "    print(f'N50: {n50}')"
   ]
  },
  {
   "cell_type": "code",
   "execution_count": 3,
   "metadata": {},
   "outputs": [
    {
     "name": "stdout",
     "output_type": "stream",
     "text": [
      "Анализ контигов:\n",
      "Общее количество: 629\n",
      "Общая длина: 3926539\n",
      "Длина самого длинного: 179307\n",
      "N50: 47993\n"
     ]
    }
   ],
   "source": [
    "contigues = load('../data/Poil_contig.fa')\n",
    "print_analytics('контигов', contigues)"
   ]
  },
  {
   "cell_type": "code",
   "execution_count": 4,
   "metadata": {},
   "outputs": [],
   "source": [
    "def get_max_legth_scaffold(scaffolds):\n",
    "    scaffold = scaffolds[0]\n",
    "    for s in scaffolds:\n",
    "        if len(s) > len(scaffold):\n",
    "            scaffold = s\n",
    "    return scaffold\n",
    "\n",
    "def print_gap_analytics(scaffold):\n",
    "    gaps = re.findall('N+', scaffold)\n",
    "    total_length = sum([len(x) for x in gaps])\n",
    "    print(f'Количество гэпов в наидлиннейшем скаффолде: {len(gaps)}')\n",
    "    print(f'Общая длина гэпов: {total_length}')"
   ]
  },
  {
   "cell_type": "code",
   "execution_count": 5,
   "metadata": {},
   "outputs": [
    {
     "name": "stdout",
     "output_type": "stream",
     "text": [
      "Анализ скафолдов:\n",
      "Общее количество: 72\n",
      "Общая длина: 3873350\n",
      "Длина самого длинного: 3832537\n",
      "N50: 3832537\n",
      "Количество гэпов в наидлиннейшем скаффолде: 65\n",
      "Общая длина гэпов: 7586\n"
     ]
    }
   ],
   "source": [
    "scaffolds = load('../data/Poil_scaffold.fa')\n",
    "print_analytics('скафолдов', scaffolds)\n",
    "print_gap_analytics(get_max_legth_scaffold(scaffolds))"
   ]
  },
  {
   "cell_type": "code",
   "execution_count": 6,
   "metadata": {},
   "outputs": [
    {
     "name": "stdout",
     "output_type": "stream",
     "text": [
      "Количество гэпов в наидлиннейшем скаффолде: 11\n",
      "Общая длина гэпов: 3510\n"
     ]
    }
   ],
   "source": [
    "gap_close_scaffolds = load('../data/Poil_gapClosed.fa')\n",
    "print_gap_analytics(get_max_legth_scaffold(gap_close_scaffolds))"
   ]
  },
  {
   "cell_type": "code",
   "execution_count": null,
   "metadata": {},
   "outputs": [],
   "source": [
    "longest = get_max_legth_scaffold(scaffolds)\n",
    "gap_close_longest = get_max_legth_scaffold(gap_close_scaffolds)\n",
    "with open('../data/longest.fasta', 'w') as f:\n",
    "    f.write(longest)\n",
    "with open('../data/gap_close_longest.fasta', 'w') as f:\n",
    "    f.write(gap_close_longest)"
   ]
  }
 ],
 "metadata": {
  "kernelspec": {
   "display_name": "Python 3.8.10 64-bit",
   "language": "python",
   "name": "python3"
  },
  "language_info": {
   "codemirror_mode": {
    "name": "ipython",
    "version": 3
   },
   "file_extension": ".py",
   "mimetype": "text/x-python",
   "name": "python",
   "nbconvert_exporter": "python",
   "pygments_lexer": "ipython3",
   "version": "3.8.10"
  },
  "orig_nbformat": 4,
  "vscode": {
   "interpreter": {
    "hash": "916dbcbb3f70747c44a77c7bcd40155683ae19c65e1c03b4aa3499c5328201f1"
   }
  }
 },
 "nbformat": 4,
 "nbformat_minor": 2
}
